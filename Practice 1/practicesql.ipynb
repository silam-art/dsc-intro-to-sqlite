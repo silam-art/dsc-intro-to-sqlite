{
 "cells": [
  {
   "cell_type": "code",
   "execution_count": 1,
   "id": "c65acc08",
   "metadata": {},
   "outputs": [
    {
     "name": "stdout",
     "output_type": "stream",
     "text": [
      "dsc-intro-to-sqlite\n",
      "practicesql.ipynb\n"
     ]
    }
   ],
   "source": [
    "! ls\n"
   ]
  },
  {
   "cell_type": "code",
   "execution_count": 3,
   "id": "904b6f05",
   "metadata": {},
   "outputs": [],
   "source": [
    "%%script sqlite3 data.sqlite --out tables\n",
    ".tables\n",
    ".quit"
   ]
  },
  {
   "cell_type": "code",
   "execution_count": 4,
   "id": "449fb97f",
   "metadata": {},
   "outputs": [
    {
     "name": "stdout",
     "output_type": "stream",
     "text": [
      "employees     orderdetails  payments      products    \n",
      "\n"
     ]
    }
   ],
   "source": [
    "print(tables)"
   ]
  },
  {
   "cell_type": "code",
   "execution_count": 7,
   "id": "791b7c18",
   "metadata": {},
   "outputs": [],
   "source": [
    "%%script sqlite3 data.sqlite --out offices_data\n",
    "SELECT * FROM offices;\n",
    ".quit"
   ]
  },
  {
   "cell_type": "code",
   "execution_count": 8,
   "id": "6bfcb570",
   "metadata": {},
   "outputs": [
    {
     "name": "stdout",
     "output_type": "stream",
     "text": [
      "7|London|+44 20 7877 2041|25 Old Broad Street|Level 7||UK|EC2N 1HN|EMEA\n",
      "\n"
     ]
    }
   ],
   "source": [
    "print(offices_data)"
   ]
  },
  {
   "cell_type": "code",
   "execution_count": 11,
   "id": "fcd9e32d",
   "metadata": {},
   "outputs": [],
   "source": [
    "%%script sqlite3 data.sqlite --out schema\n",
    ".schema offices\n",
    ".quit"
   ]
  },
  {
   "cell_type": "code",
   "execution_count": 12,
   "id": "0ba36777",
   "metadata": {},
   "outputs": [
    {
     "name": "stdout",
     "output_type": "stream",
     "text": [
      "CREATE TABLE `offices` (`officeCode`, `city`, `phone`, `addressLine1`, `addressLine2`, `state`, `country`, `postalCode`, `territory`);\n",
      "\n"
     ]
    }
   ],
   "source": [
    "print(schema)"
   ]
  },
  {
   "cell_type": "code",
   "execution_count": 13,
   "id": "2bc455b2",
   "metadata": {},
   "outputs": [
    {
     "data": {
      "text/plain": [
       "(str, str, str)"
      ]
     },
     "execution_count": 13,
     "metadata": {},
     "output_type": "execute_result"
    }
   ],
   "source": [
    "type(offices_data), type(schema), type(tables)"
   ]
  }
 ],
 "metadata": {
  "kernelspec": {
   "display_name": "base",
   "language": "python",
   "name": "python3"
  },
  "language_info": {
   "codemirror_mode": {
    "name": "ipython",
    "version": 3
   },
   "file_extension": ".py",
   "mimetype": "text/x-python",
   "name": "python",
   "nbconvert_exporter": "python",
   "pygments_lexer": "ipython3",
   "version": "3.12.7"
  }
 },
 "nbformat": 4,
 "nbformat_minor": 5
}
